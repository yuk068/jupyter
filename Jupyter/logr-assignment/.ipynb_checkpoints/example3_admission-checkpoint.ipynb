{
 "cells": [
  {
   "cell_type": "code",
   "execution_count": 4,
   "id": "fefbbd21-5c1b-4df0-9258-a29d24e5c90f",
   "metadata": {},
   "outputs": [],
   "source": [
    "# Imports\n",
    "from logr_utils import sigmoid, logistic_sigmoid_regression\n",
    "from sklearn.metrics import accuracy_score, precision_score, recall_score\n",
    "\n",
    "import numpy as np\n",
    "import pandas as pd\n",
    "import matplotlib.pyplot as plt\n",
    "\n",
    "# Read the data\n",
    "data = pd.read_csv('data/admission.csv')\n",
    "\n",
    "data.head()\n",
    "data.columns = data.columns.str.strip()\n",
    "\n",
    "# Now create the 'Admit' column\n",
    "data['Admit'] = (data['Chance of Admit'] >= 0.75).astype(int)\n",
    "\n",
    "# Split the data: use 350 rows for training and the rest for testing\n",
    "train_data = data.iloc[:350]\n",
    "test_data = data.iloc[350:]\n",
    "\n",
    "# Extract features and target\n",
    "X_train = train_data[['GRE Score', 'TOEFL Score', 'University Rating', 'SOP', 'LOR', 'CGPA', 'Research']].values.T\n",
    "y_train = train_data['Admit'].values\n",
    "\n",
    "X_test = test_data[['GRE Score', 'TOEFL Score', 'University Rating', 'SOP', 'LOR', 'CGPA', 'Research']].values.T\n",
    "y_test = test_data['Admit'].values"
   ]
  },
  {
   "cell_type": "code",
   "execution_count": 5,
   "id": "ff8af0c4-8564-4865-b106-3f9d82905833",
   "metadata": {},
   "outputs": [],
   "source": [
    "# Number of training examples\n",
    "m = X_train.shape[1]\n",
    "\n",
    "# Add a row of ones to X_train to account for the intercept term (X0)\n",
    "Xbar_train = np.vstack((np.ones((1, m)), X_train))\n",
    "\n",
    "# Add intercept to the test set\n",
    "m_test = X_test.shape[1]\n",
    "Xbar_test = np.vstack((np.ones((1, m_test)), X_test))"
   ]
  },
  {
   "cell_type": "code",
   "execution_count": 24,
   "id": "a8570714-448a-4c99-a7df-7013073e2d5c",
   "metadata": {},
   "outputs": [
    {
     "name": "stdout",
     "output_type": "stream",
     "text": [
      "Shape of y_test: (50,)\n",
      "Shape of y_pred_test: (50,)\n",
      "Accuracy: 0.44\n",
      "Precision: 0.44\n",
      "Recall: 1.00\n"
     ]
    }
   ],
   "source": [
    "# Initialize weights (w_init), learning rate (eta), tolerance (tol), and max iterations (max_count)\n",
    "w_init = np.zeros(Xbar_train.shape[0])\n",
    "eta = 0.01\n",
    "tol = 1e-4\n",
    "max_count = 10000\n",
    "\n",
    "# Train the model using logistic regression\n",
    "weights = logistic_sigmoid_regression(Xbar_train, y_train, w_init, eta)\n",
    "\n",
    "# Prediction function using sigmoid\n",
    "def predict(X, w):\n",
    "    # Calculate the dot product of w and X\n",
    "    z = np.dot(w[-1].T, X)  # Note the transpose of w\n",
    "    y_pred = sigmoid(z)\n",
    "    return (y_pred >= 0.5).astype(int)\n",
    "\n",
    "# Predict on test data\n",
    "y_pred_test = predict(Xbar_test, weights[-1])\n",
    "\n",
    "# Print the shapes to debug\n",
    "print(f\"Shape of y_test: {y_test.shape}\")  # Should be (50,)\n",
    "print(f\"Shape of y_pred_test: {y_pred_test.shape}\")  # Should be (50,)\n",
    "\n",
    "# Calculate metrics using scikit-learn\n",
    "accuracy = accuracy_score(y_test, y_pred_test)\n",
    "precision = precision_score(y_test, y_pred_test)\n",
    "recall = recall_score(y_test, y_pred_test)\n",
    "\n",
    "# Print the metrics\n",
    "print(f\"Accuracy: {accuracy:.2f}\")\n",
    "print(f\"Precision: {precision:.2f}\")\n",
    "print(f\"Recall: {recall:.2f}\")"
   ]
  },
  {
   "cell_type": "code",
   "execution_count": null,
   "id": "5b3448f7-c532-4118-b1b2-b952e25e526b",
   "metadata": {},
   "outputs": [],
   "source": []
  }
 ],
 "metadata": {
  "kernelspec": {
   "display_name": "Python 3 (ipykernel)",
   "language": "python",
   "name": "python3"
  },
  "language_info": {
   "codemirror_mode": {
    "name": "ipython",
    "version": 3
   },
   "file_extension": ".py",
   "mimetype": "text/x-python",
   "name": "python",
   "nbconvert_exporter": "python",
   "pygments_lexer": "ipython3",
   "version": "3.12.5"
  }
 },
 "nbformat": 4,
 "nbformat_minor": 5
}
