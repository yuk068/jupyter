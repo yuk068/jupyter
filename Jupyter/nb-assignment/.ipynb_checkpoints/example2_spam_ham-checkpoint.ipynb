{
 "cells": [
  {
   "cell_type": "code",
   "execution_count": 1,
   "id": "64d69013-8ce3-4f5f-9229-4436c6831cf6",
   "metadata": {},
   "outputs": [
    {
     "name": "stdout",
     "output_type": "stream",
     "text": [
      "Testing data succesfully loaded\n"
     ]
    }
   ],
   "source": [
    "# Imports\n",
    "from nb_utils import check_data_integrity, load_features, load_labels, evaluate_model\n",
    "\n",
    "import numpy as np\n",
    "import pandas as pd\n",
    "from sklearn.naive_bayes import MultinomialNB\n",
    "\n",
    "from scipy.sparse import csr_matrix\n",
    "\n",
    "# Data preprocessing: I couldn't access the deemed processed data in the provided\n",
    "# links, so I downloaded the ling spam dataset on Kaggle (2893 messages). I then\n",
    "# performed manual data preprocessing through the use of process_ling_spam.py and\n",
    "# train_test_split_ling_spam.py in the CWD. There are 960 processed data points in\n",
    "# processed_messages.csv. train_test_split_ling_spam.py outputed 8 files:\n",
    "\n",
    "# /data/ling_spam/\n",
    "# train-features.csv, train-labels.csv   : 768 data points\n",
    "# test-features.csv, test-labels.csv     : 192 data points\n",
    "# *-50.csv                               :  50 data points\n",
    "# *-100.csv                              : 100 data points\n",
    "# *-400.csv                              : 400 data points\n",
    "\n",
    "# All processed datasets are relatively balanced\n",
    "# The length of the corpus might not be exactly 2500 words\n",
    "\n",
    "# Check data integrity (uncomment if needed)\n",
    "# file_pairs = [\n",
    "#     ('data/ling_spam/train-features.csv', 'data/ling_spam/train-labels.csv'),\n",
    "#     ('data/ling_spam/test-features.csv', 'data/ling_spam/test-labels.csv'),\n",
    "#     ('data/ling_spam/train-features-50.csv', 'data/ling_spam/train-labels-50.csv'),\n",
    "#     ('data/ling_spam/train-features-100.csv', 'data/ling_spam/train-labels-100.csv'),\n",
    "#     ('data/ling_spam/train-features-400.csv', 'data/ling_spam/train-labels-400.csv')\n",
    "# ]\n",
    "\n",
    "# Run integrity checks for each file pair\n",
    "# for features_file, labels_file in file_pairs:\n",
    "#     check_data_integrity(features_file, labels_file)\n",
    "\n",
    "# Load test data\n",
    "X_test = load_features('data/ling_spam/test-features.csv')\n",
    "y_test = load_labels('data/ling_spam/test-labels.csv')\n",
    "print(\"Testing data succesfully loaded\")"
   ]
  },
  {
   "cell_type": "code",
   "execution_count": 2,
   "id": "50862fd8-c76b-4b96-8b13-ae0039cc3664",
   "metadata": {},
   "outputs": [
    {
     "name": "stdout",
     "output_type": "stream",
     "text": [
      "Training with 50 samples:\n",
      "Accuracy: 0.9219\n",
      "Precision: 0.8824\n",
      "Recall: 0.9906\n",
      "F1-score: 0.9333\n"
     ]
    }
   ],
   "source": [
    "print(\"Training with 50 samples:\")\n",
    "X_train_50 = load_features('data/ling_spam/train-features-50.csv')\n",
    "y_train_50 = load_labels('data/ling_spam/train-labels-50.csv')\n",
    "\n",
    "model_50 = MultinomialNB()\n",
    "model_50.fit(X_train_50, y_train_50)\n",
    "\n",
    "y_pred_50 = model_50.predict(X_test)\n",
    "evaluate_model(y_test, y_pred_50)"
   ]
  },
  {
   "cell_type": "code",
   "execution_count": 3,
   "id": "1be20bee-42c0-4133-bd63-5063caa4f1bd",
   "metadata": {},
   "outputs": [
    {
     "name": "stdout",
     "output_type": "stream",
     "text": [
      "\n",
      "Training with 100 samples:\n",
      "Accuracy: 0.9688\n",
      "Precision: 0.9545\n",
      "Recall: 0.9906\n",
      "F1-score: 0.9722\n"
     ]
    }
   ],
   "source": [
    "print(\"\\nTraining with 100 samples:\")\n",
    "X_train_100 = load_features('data/ling_spam/train-features-100.csv')\n",
    "y_train_100 = load_labels('data/ling_spam/train-labels-100.csv')\n",
    "\n",
    "model_100 = MultinomialNB()\n",
    "model_100.fit(X_train_100, y_train_100)\n",
    "\n",
    "y_pred_100 = model_100.predict(X_test)\n",
    "evaluate_model(y_test, y_pred_100)"
   ]
  },
  {
   "cell_type": "code",
   "execution_count": 4,
   "id": "6d446008-0963-47af-8efa-61b60d263e6e",
   "metadata": {},
   "outputs": [
    {
     "name": "stdout",
     "output_type": "stream",
     "text": [
      "\n",
      "Training with 400 samples:\n",
      "Accuracy: 0.9948\n",
      "Precision: 1.0000\n",
      "Recall: 0.9906\n",
      "F1-score: 0.9953\n"
     ]
    }
   ],
   "source": [
    "print(\"\\nTraining with 400 samples:\")\n",
    "X_train_400 = load_features('data/ling_spam/train-features-400.csv')\n",
    "y_train_400 = load_labels('data/ling_spam/train-labels-400.csv')\n",
    "\n",
    "model_400 = MultinomialNB()\n",
    "model_400.fit(X_train_400, y_train_400)\n",
    "\n",
    "y_pred_400 = model_400.predict(X_test)\n",
    "evaluate_model(y_test, y_pred_400)"
   ]
  },
  {
   "cell_type": "code",
   "execution_count": 5,
   "id": "615dfcc1-c102-4915-9a1e-3145f644bb8f",
   "metadata": {},
   "outputs": [
    {
     "name": "stdout",
     "output_type": "stream",
     "text": [
      "\n",
      "Training with full dataset (768 samples):\n",
      "Accuracy: 0.9948\n",
      "Precision: 1.0000\n",
      "Recall: 0.9906\n",
      "F1-score: 0.9953\n"
     ]
    }
   ],
   "source": [
    "print(\"\\nTraining with full dataset (768 samples):\")\n",
    "X_train_full = load_features('data/ling_spam/train-features.csv')\n",
    "y_train_full = load_labels('data/ling_spam/train-labels.csv')\n",
    "\n",
    "model_full = MultinomialNB()\n",
    "model_full.fit(X_train_full, y_train_full)\n",
    "\n",
    "y_pred_full = model_full.predict(X_test)\n",
    "evaluate_model(y_test, y_pred_full)"
   ]
  },
  {
   "cell_type": "code",
   "execution_count": null,
   "id": "2494576c-5a81-423e-ad84-d52e802cd240",
   "metadata": {},
   "outputs": [],
   "source": []
  }
 ],
 "metadata": {
  "kernelspec": {
   "display_name": "Python 3 (ipykernel)",
   "language": "python",
   "name": "python3"
  },
  "language_info": {
   "codemirror_mode": {
    "name": "ipython",
    "version": 3
   },
   "file_extension": ".py",
   "mimetype": "text/x-python",
   "name": "python",
   "nbconvert_exporter": "python",
   "pygments_lexer": "ipython3",
   "version": "3.12.5"
  }
 },
 "nbformat": 4,
 "nbformat_minor": 5
}
