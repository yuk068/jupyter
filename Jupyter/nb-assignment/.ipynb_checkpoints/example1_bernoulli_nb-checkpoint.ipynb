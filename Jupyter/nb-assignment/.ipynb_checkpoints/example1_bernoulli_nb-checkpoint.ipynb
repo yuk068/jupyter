{
 "cells": [
  {
   "cell_type": "code",
   "execution_count": 8,
   "id": "11255cbb-05c8-4cd5-b53c-1bb78d3cb498",
   "metadata": {},
   "outputs": [
    {
     "name": "stdout",
     "output_type": "stream",
     "text": [
      "  No.                         Text Class\n",
      "0  D1  Hà-Nội phở cháo-lòng Hà-Nội     B\n",
      "1  D2     Hà-Nội bún-chả phở ô-mai     B\n",
      "2  D3           Phở bánh-giò ô-mai     B\n",
      "3  D4  Sài-Gòn hủ-tiếu bánh-bò phở     N\n"
     ]
    }
   ],
   "source": [
    "# Imports\n",
    "import numpy as np\n",
    "import pandas as pd\n",
    "from sklearn.feature_extraction.text import CountVectorizer\n",
    "from sklearn.naive_bayes import MultinomialNB\n",
    "\n",
    "# Initialize data\n",
    "\n",
    "# Training data\n",
    "data = [\n",
    "    ['D1', 'Hà-Nội phở cháo-lòng Hà-Nội', 'B'],\n",
    "    ['D2', 'Hà-Nội bún-chả phở ô-mai', 'B'],\n",
    "    ['D3', 'Phở bánh-giò ô-mai', 'B'],\n",
    "    ['D4', 'Sài-Gòn hủ-tiếu bánh-bò phở', 'N']\n",
    "]\n",
    "\n",
    "# Validation data\n",
    "D5 = 'Hà-Nội Hà-Nội bún-chả hủ-tiếu'\n",
    "D6 = 'Phở hủ-tiếu bánh-bò'\n",
    "\n",
    "df = pd.DataFrame(data, columns=['No.', 'Text', 'Class'])\n",
    "print(df)\n",
    "\n",
    "# Problem summary: From the training data, we must classify D5 and D6 as \n",
    "# belonging to 'B' for Northen Vietnamese speech or 'N' for Southern Vietnamese speech"
   ]
  },
  {
   "cell_type": "code",
   "execution_count": 9,
   "id": "00895e3e-9172-421a-ba7a-648f401bf599",
   "metadata": {},
   "outputs": [
    {
     "name": "stdout",
     "output_type": "stream",
     "text": [
      "Training Data Vectors (Dense Format):\n",
      "   bánh  bò  bún  cháo  chả  giò  gòn  hà  hủ  lòng  mai  nội  phở  sài  tiếu\n",
      "0     0   0    0     1    0    0    0   2   0     1    0    2    1    0     0\n",
      "1     0   0    1     0    1    0    0   1   0     0    1    1    1    0     0\n",
      "2     1   0    0     0    0    1    0   0   0     0    1    0    1    0     0\n",
      "3     1   1    0     0    0    0    1   0   1     0    0    0    1    1     1\n",
      "\n",
      "Validation Data Vectors (Dense Format):\n",
      "   bánh  bò  bún  cháo  chả  giò  gòn  hà  hủ  lòng  mai  nội  phở  sài  tiếu\n",
      "0     0   0    1     0    1    0    0   2   1     0    0    2    0    0     1\n",
      "1     1   1    0     0    0    0    0   0   1     0    0    0    1    0     1\n"
     ]
    }
   ],
   "source": [
    "# Initialize CountVectorizer\n",
    "vectorizer = CountVectorizer()\n",
    "\n",
    "# Fit the vectorizer on the training data and transform the text\n",
    "X_train = vectorizer.fit_transform(df['Text'])\n",
    "\n",
    "# Transform the validation data\n",
    "X_val = vectorizer.transform([D5, D6])\n",
    "\n",
    "# Convert to dense format for easy visualization\n",
    "X_train_dense = X_train.toarray()\n",
    "X_val_dense = X_val.toarray()\n",
    "\n",
    "# Get the feature names (words) for reference\n",
    "feature_names = vectorizer.get_feature_names_out()\n",
    "\n",
    "# Print training data vectors and corresponding feature names\n",
    "print(\"Training Data Vectors (Dense Format):\")\n",
    "print(pd.DataFrame(X_train_dense, columns=feature_names))\n",
    "\n",
    "# Print validation data vectors\n",
    "print(\"\\nValidation Data Vectors (Dense Format):\")\n",
    "print(pd.DataFrame(X_val_dense, columns=feature_names))"
   ]
  },
  {
   "cell_type": "code",
   "execution_count": 10,
   "id": "ff4ea8fc-0b7b-4890-993f-13123e290bfc",
   "metadata": {},
   "outputs": [
    {
     "name": "stdout",
     "output_type": "stream",
     "text": [
      "Predicting class of D5: ['B']\n",
      "Predicting class of D6: ['N']\n",
      "Probability of D5 in each class: [[0.97457435 0.02542565]]\n",
      "Probability of D6 in each class: [[0.10329395 0.89670605]]\n"
     ]
    }
   ],
   "source": [
    "# Scikit-learn Multinomial Naive Bayes implemetation\n",
    "clf = MultinomialNB()\n",
    "\n",
    "# Fitting the model on training data\n",
    "clf.fit(X_train, df['Class'])\n",
    "\n",
    "# Predicting the class of D5 and D6\n",
    "print('Predicting class of D5:', str(clf.predict(X_val[0])))\n",
    "print('Predicting class of D6:', str(clf.predict(X_val[1])))\n",
    "\n",
    "# Predicting the probability of D5 and D6 for each class\n",
    "print('Probability of D5 in each class:', clf.predict_proba(X_val[0]))\n",
    "print('Probability of D6 in each class:', clf.predict_proba(X_val[1]))"
   ]
  }
 ],
 "metadata": {
  "kernelspec": {
   "display_name": "Python 3 (ipykernel)",
   "language": "python",
   "name": "python3"
  },
  "language_info": {
   "codemirror_mode": {
    "name": "ipython",
    "version": 3
   },
   "file_extension": ".py",
   "mimetype": "text/x-python",
   "name": "python",
   "nbconvert_exporter": "python",
   "pygments_lexer": "ipython3",
   "version": "3.12.5"
  }
 },
 "nbformat": 4,
 "nbformat_minor": 5
}
