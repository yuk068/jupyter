{
 "cells": [
  {
   "cell_type": "code",
   "execution_count": 17,
   "id": "eeacdc2f-1787-400e-9342-bc4d9000b856",
   "metadata": {},
   "outputs": [],
   "source": [
    "# Imports\n",
    "import pandas as pd\n",
    "from sklearn.model_selection import train_test_split\n",
    "from sklearn.naive_bayes import GaussianNB\n",
    "from sklearn.metrics import accuracy_score, precision_score, recall_score, classification_report, confusion_matrix\n",
    "\n",
    "# Load the dataset\n",
    "data = pd.read_csv('data/breast_cancer.csv', header=None)\n",
    "\n",
    "# Assign column names based on the description provided\n",
    "data.columns = ['Sample_Code', 'Class', 'Clump_Thickness', 'Cell_Size_Uniformity',\n",
    "                'Cell_Shape_Uniformity', 'Marginal_Adhesion', 'Single_Epithelial_Cell_Size',\n",
    "                'Bare_Nuclei', 'Bland_Chromatin', 'Normal_Nucleoli', 'Mitoses']\n",
    "\n",
    "# Separate benign and malignant samples\n",
    "benign_samples = data[data['Class'] == 2].sample(n=80, random_state=42)\n",
    "malignant_samples = data[data['Class'] == 4].sample(n=40, random_state=42)\n",
    "\n",
    "# Combine test samples\n",
    "test_data = pd.concat([benign_samples, malignant_samples])\n",
    "\n",
    "# Get training data by dropping the test data from the original data\n",
    "train_data = data.drop(test_data.index)\n",
    "\n",
    "# Prepare training features and labels\n",
    "X_train = train_data.drop(['Sample_Code', 'Class'], axis=1)\n",
    "y_train = train_data['Class']\n",
    "\n",
    "# Prepare testing features and labels\n",
    "X_test = test_data.drop(['Sample_Code', 'Class'], axis=1)\n",
    "y_test = test_data['Class']"
   ]
  },
  {
   "cell_type": "code",
   "execution_count": 18,
   "id": "96a3060b-b86f-44ed-9dba-52bec7d23177",
   "metadata": {},
   "outputs": [],
   "source": [
    "# Initialize the GaussianNB classifier\n",
    "gnb = GaussianNB()\n",
    "\n",
    "# Train the classifier\n",
    "gnb.fit(X_train, y_train)\n",
    "\n",
    "# Make predictions\n",
    "y_pred = gnb.predict(X_test)"
   ]
  },
  {
   "cell_type": "code",
   "execution_count": 19,
   "id": "6d6a521c-a08b-4d3d-8c27-0e3458823c17",
   "metadata": {},
   "outputs": [
    {
     "name": "stdout",
     "output_type": "stream",
     "text": [
      "Accuracy: 0.97\n",
      "Precision: 0.95\n",
      "Recall: 0.95\n",
      "\n",
      "Confusion Matrix:\n",
      " [[78  2]\n",
      " [ 2 38]]\n",
      "\n",
      "Classification Report:\n",
      "               precision    recall  f1-score   support\n",
      "\n",
      "           2       0.97      0.97      0.97        80\n",
      "           4       0.95      0.95      0.95        40\n",
      "\n",
      "    accuracy                           0.97       120\n",
      "   macro avg       0.96      0.96      0.96       120\n",
      "weighted avg       0.97      0.97      0.97       120\n",
      "\n"
     ]
    }
   ],
   "source": [
    "# Calculate accuracy\n",
    "accuracy = accuracy_score(y_test, y_pred)\n",
    "\n",
    "# Calculate precision\n",
    "precision = precision_score(y_test, y_pred, pos_label=4)\n",
    "\n",
    "# Calculate recall\n",
    "recall = recall_score(y_test, y_pred, pos_label=4)\n",
    "\n",
    "# Generate confusion matrix\n",
    "conf_matrix = confusion_matrix(y_test, y_pred)\n",
    "\n",
    "# Print the classification report\n",
    "report = classification_report(y_test, y_pred)\n",
    "\n",
    "# Display results\n",
    "print(f\"Accuracy: {accuracy:.2f}\")\n",
    "print(f\"Precision: {precision:.2f}\")\n",
    "print(f\"Recall: {recall:.2f}\")\n",
    "print(\"\\nConfusion Matrix:\\n\", conf_matrix)\n",
    "print(\"\\nClassification Report:\\n\", report)"
   ]
  }
 ],
 "metadata": {
  "kernelspec": {
   "display_name": "Python 3 (ipykernel)",
   "language": "python",
   "name": "python3"
  },
  "language_info": {
   "codemirror_mode": {
    "name": "ipython",
    "version": 3
   },
   "file_extension": ".py",
   "mimetype": "text/x-python",
   "name": "python",
   "nbconvert_exporter": "python",
   "pygments_lexer": "ipython3",
   "version": "3.12.5"
  }
 },
 "nbformat": 4,
 "nbformat_minor": 5
}
