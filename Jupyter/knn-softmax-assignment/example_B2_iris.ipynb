{
 "cells": [
  {
   "cell_type": "code",
   "execution_count": 30,
   "id": "df817628-89a4-4e72-975a-ee7a452e243f",
   "metadata": {},
   "outputs": [],
   "source": [
    "# Imports\n",
    "import numpy as np\n",
    "from logr_model import logistic_regression_predict\n",
    "from sklearn.linear_model import LogisticRegression\n",
    "from sklearn.datasets import load_iris\n",
    "from sklearn.metrics import accuracy_score, precision_score, recall_score, confusion_matrix"
   ]
  },
  {
   "cell_type": "code",
   "execution_count": 31,
   "id": "75d4d8d2-053f-47db-be1f-0ad059c7fb49",
   "metadata": {},
   "outputs": [],
   "source": [
    "# Load the iris dataset\n",
    "iris = load_iris()\n",
    "X = iris.data\n",
    "y = iris.target\n",
    "\n",
    "# Split the data to meet the requirements\n",
    "X_train, X_test, y_train, y_test = [], [], [], []\n",
    "\n",
    "np.random.seed(42)\n",
    "\n",
    "for species in range(3):\n",
    "    species_indices = np.where(y == species)[0]\n",
    "    X_species = X[species_indices]\n",
    "    y_species = y[species_indices]\n",
    "    \n",
    "    train_indices = np.random.choice(len(X_species), 40, replace=False)\n",
    "    test_indices = np.setdiff1d(range(len(X_species)), train_indices)[:10]\n",
    "    \n",
    "    X_train.extend(X_species[train_indices])\n",
    "    X_test.extend(X_species[test_indices])\n",
    "    y_train.extend(y_species[train_indices])\n",
    "    y_test.extend(y_species[test_indices])\n",
    "\n",
    "X_train, X_test, y_train, y_test = map(np.array, [X_train, X_test, y_train, y_test])"
   ]
  },
  {
   "cell_type": "code",
   "execution_count": 32,
   "id": "d2b6a969-8efd-4224-90e2-fd578116b94d",
   "metadata": {},
   "outputs": [
    {
     "name": "stdout",
     "output_type": "stream",
     "text": [
      "Accuracy: 0.9666666666666667\n",
      "Precision (macro): 0.9696969696969697\n",
      "Recall (macro): 0.9666666666666667\n",
      "Confusion Matrix:\n",
      " [[10  0  0]\n",
      " [ 0  9  1]\n",
      " [ 0  0 10]]\n"
     ]
    }
   ],
   "source": [
    "# Use our LogReg model\n",
    "y_pred = logistic_regression_predict(X_train, y_train, X_test, max_iter=1000, learning_rate=0.01, type='softmax')\n",
    "\n",
    "# Print out evaluation metrics\n",
    "accuracy = accuracy_score(y_test, y_pred)\n",
    "print(\"Accuracy:\", accuracy)\n",
    "precision = precision_score(y_test, y_pred, average='macro')\n",
    "print(\"Precision (macro):\", precision)\n",
    "recall = recall_score(y_test, y_pred, average='macro')\n",
    "print(\"Recall (macro):\", recall)\n",
    "conf_matrix = confusion_matrix(y_test, y_pred)\n",
    "print(\"Confusion Matrix:\\n\", conf_matrix)"
   ]
  },
  {
   "cell_type": "code",
   "execution_count": 33,
   "id": "4cf3122c-98ec-4e22-b850-91dd10ff93ec",
   "metadata": {},
   "outputs": [
    {
     "name": "stdout",
     "output_type": "stream",
     "text": [
      "Accuracy (scikit-learn): 0.9666666666666667\n",
      "Precision (macro) (scikit-learn): 0.9696969696969697\n",
      "Recall (macro) (scikit-learn): 0.9666666666666667\n",
      "Confusion Matrix (scikit-learn):\n",
      " [[10  0  0]\n",
      " [ 0  9  1]\n",
      " [ 0  0 10]]\n"
     ]
    }
   ],
   "source": [
    "# Scikit-learn implementation for reference\n",
    "model = LogisticRegression(max_iter=1000, solver='lbfgs')\n",
    "\n",
    "model.fit(X_train, y_train)\n",
    "y_pred_sklearn = model.predict(X_test)\n",
    "\n",
    "# Print out evaluation metrics\n",
    "accuracy_sklearn = accuracy_score(y_test, y_pred_sklearn)\n",
    "print(\"Accuracy (scikit-learn):\", accuracy_sklearn)\n",
    "precision_sklearn = precision_score(y_test, y_pred_sklearn, average='macro')\n",
    "print(\"Precision (macro) (scikit-learn):\", precision_sklearn)\n",
    "recall_sklearn = recall_score(y_test, y_pred_sklearn, average='macro')\n",
    "print(\"Recall (macro) (scikit-learn):\", recall_sklearn)\n",
    "conf_matrix_sklearn = confusion_matrix(y_test, y_pred_sklearn)\n",
    "print(\"Confusion Matrix (scikit-learn):\\n\", conf_matrix_sklearn)"
   ]
  }
 ],
 "metadata": {
  "kernelspec": {
   "display_name": "Python 3 (ipykernel)",
   "language": "python",
   "name": "python3"
  },
  "language_info": {
   "codemirror_mode": {
    "name": "ipython",
    "version": 3
   },
   "file_extension": ".py",
   "mimetype": "text/x-python",
   "name": "python",
   "nbconvert_exporter": "python",
   "pygments_lexer": "ipython3",
   "version": "3.12.5"
  }
 },
 "nbformat": 4,
 "nbformat_minor": 5
}
