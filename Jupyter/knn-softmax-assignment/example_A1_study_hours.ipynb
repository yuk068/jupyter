{
 "cells": [
  {
   "cell_type": "code",
   "execution_count": 17,
   "id": "2026c5e9-3b99-47e5-82f2-c5d4da8bd5bc",
   "metadata": {},
   "outputs": [],
   "source": [
    "# Imports\n",
    "import numpy as np\n",
    "from knn_model import k_nearest_neighbor_predict"
   ]
  },
  {
   "cell_type": "code",
   "execution_count": 18,
   "id": "35954ce0-417b-475b-9d16-7e8128ad0128",
   "metadata": {},
   "outputs": [],
   "source": [
    "# Initiating data\n",
    "hours = np.array([0.50, 0.75, 1.00, 1.25, 1.50, 1.75, 1.75, 2.00, 2.25, 2.50,\n",
    "                  2.75, 3.00, 3.25, 3.50, 4.00, 4.25, 4.50, 4.75, 5.00, 5.50])\n",
    "pass_array = np.array([0, 0, 0, 0, 0, 0, 1, 0, 0, 0,\n",
    "                       1, 0, 1, 0, 1, 1, 1, 1, 1, 1])\n",
    "\n",
    "new_hours = np.array([2.45, 1.85, 3.75, 3.21, 4.05])"
   ]
  },
  {
   "cell_type": "code",
   "execution_count": 19,
   "id": "e7509fbc-c63b-4edf-93be-f1fbaf55e2a9",
   "metadata": {},
   "outputs": [
    {
     "name": "stdout",
     "output_type": "stream",
     "text": [
      "\n",
      "K-Nearest Neighbors Model (k = 3):\n",
      "New Hours  | Predicted Result\n",
      "-----------|------------------\n",
      "2.45       | Not Pass\n",
      "1.85       | Not Pass\n",
      "3.75       | Pass\n",
      "3.21       | Not Pass\n",
      "4.05       | Pass\n",
      "\n",
      "K-Nearest Neighbors Model (k = 4):\n",
      "New Hours  | Predicted Result\n",
      "-----------|------------------\n",
      "2.45       | Not Pass\n",
      "1.85       | Not Pass\n",
      "3.75       | Pass\n",
      "3.21       | Pass\n",
      "4.05       | Pass\n",
      "\n",
      "K-Nearest Neighbors Model (k = 5):\n",
      "New Hours  | Predicted Result\n",
      "-----------|------------------\n",
      "2.45       | Not Pass\n",
      "1.85       | Not Pass\n",
      "3.75       | Pass\n",
      "3.21       | Not Pass\n",
      "4.05       | Pass\n"
     ]
    }
   ],
   "source": [
    "k_values = [3, 4, 5]\n",
    "\n",
    "# Test for k = 3, 4, 5\n",
    "for k in k_values:\n",
    "    print(f\"\\nK-Nearest Neighbors Model (k = {k}):\")\n",
    "\n",
    "    y_pred = k_nearest_neighbor_predict(hours, pass_array, new_hours, k=k)\n",
    "\n",
    "    combined_data = np.column_stack((new_hours, y_pred))\n",
    "\n",
    "    print(\"New Hours  | Predicted Result\")\n",
    "    print(\"-----------|------------------\")\n",
    "    for hour, pred in combined_data:\n",
    "        result = \"Pass\" if pred == 1 else \"Not Pass\"\n",
    "        print(f\"{hour:.2f}       | {result}\")"
   ]
  }
 ],
 "metadata": {
  "kernelspec": {
   "display_name": "Python 3 (ipykernel)",
   "language": "python",
   "name": "python3"
  },
  "language_info": {
   "codemirror_mode": {
    "name": "ipython",
    "version": 3
   },
   "file_extension": ".py",
   "mimetype": "text/x-python",
   "name": "python",
   "nbconvert_exporter": "python",
   "pygments_lexer": "ipython3",
   "version": "3.12.5"
  }
 },
 "nbformat": 4,
 "nbformat_minor": 5
}
