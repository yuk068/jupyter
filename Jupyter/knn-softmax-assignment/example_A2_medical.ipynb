{
 "cells": [
  {
   "cell_type": "code",
   "execution_count": 44,
   "id": "ca4fdfd6-6cc6-42b4-964f-c4e202a46acd",
   "metadata": {},
   "outputs": [],
   "source": [
    "# Imports\n",
    "import numpy as np\n",
    "import pandas as pd\n",
    "from knn_model import k_nearest_neighbor_predict\n",
    "from sklearn.model_selection import train_test_split\n",
    "from sklearn.metrics import accuracy_score, precision_score, recall_score, confusion_matrix"
   ]
  },
  {
   "cell_type": "code",
   "execution_count": 45,
   "id": "207dd170-838a-45b0-a87f-04523a59f9d8",
   "metadata": {},
   "outputs": [
    {
     "name": "stdout",
     "output_type": "stream",
     "text": [
      "   ID  TUOI  BMI   HA  GLUCOSE  CHOLESTEROL  BEDAYNTM  RISK\n",
      "0   1    56   21  160     14.0         6.00      1.95     1\n",
      "1   2    76   18  150     12.0         4.97      1.33     1\n",
      "2   3    63   16  160      4.4         6.39      0.83     0\n",
      "3   4    78   20  100      4.0         7.00      2.00     1\n",
      "4   5    87   20  110      4.6         4.10      1.30     1\n"
     ]
    }
   ],
   "source": [
    "# Read the data\n",
    "data = pd.read_csv('data/medical.csv')\n",
    "\n",
    "# Add the target column as requested\n",
    "data['RISK'] = [1 if x >= 1.00 else 0 for x in data['BEDAYNTM']]\n",
    "\n",
    "print(data.head())"
   ]
  },
  {
   "cell_type": "code",
   "execution_count": 46,
   "id": "62f19332-777e-4898-ac00-33712b0fac95",
   "metadata": {},
   "outputs": [],
   "source": [
    "X = data[['TUOI', 'BMI', 'HA', 'GLUCOSE', 'CHOLESTEROL']].values\n",
    "y = data['RISK'].values\n",
    "\n",
    "# Create training set and test set (8:2 split)\n",
    "X_train, X_test, y_train, y_test = train_test_split(X, y, test_size=0.2, random_state=42)"
   ]
  },
  {
   "cell_type": "code",
   "execution_count": 47,
   "id": "53460f66-c36b-40ff-ba0d-b2e82fe83115",
   "metadata": {},
   "outputs": [
    {
     "name": "stdout",
     "output_type": "stream",
     "text": [
      "\n",
      "Best-Performing K-NN Model:\n",
      "k = 13\n",
      "Accuracy: 0.8\n",
      "Precision: 0.7777777777777778\n",
      "Recall: 0.7777777777777778\n",
      "Confusion Matrix:\n",
      " [[9 2]\n",
      " [2 7]]\n"
     ]
    }
   ],
   "source": [
    "k_values = list(range(1, 21))\n",
    "\n",
    "best_k = None\n",
    "best_accuracy = 0.0\n",
    "best_precision = 0.0\n",
    "best_recall = 0.0\n",
    "best_conf_matrix = None\n",
    "\n",
    "for k in k_values:\n",
    "    y_pred = k_nearest_neighbor_predict(X_train, y_train, X_test, k=k)\n",
    "\n",
    "    accuracy = accuracy_score(y_test, y_pred)\n",
    "    precision = precision_score(y_test, y_pred)\n",
    "    recall = recall_score(y_test, y_pred)\n",
    "    conf_matrix = confusion_matrix(y_test, y_pred)\n",
    "\n",
    "    if accuracy > best_accuracy:\n",
    "        best_k = k\n",
    "        best_accuracy = accuracy\n",
    "        best_precision = precision\n",
    "        best_recall = recall\n",
    "        best_conf_matrix = conf_matrix\n",
    "\n",
    "# Print the best-performing model\n",
    "print(\"\\nBest-Performing K-NN Model:\")\n",
    "print(f\"k = {best_k}\")\n",
    "print(\"Accuracy:\", best_accuracy)\n",
    "print(\"Precision:\", best_precision)\n",
    "print(\"Recall:\", best_recall)\n",
    "print(\"Confusion Matrix:\\n\", best_conf_matrix)"
   ]
  }
 ],
 "metadata": {
  "kernelspec": {
   "display_name": "Python 3 (ipykernel)",
   "language": "python",
   "name": "python3"
  },
  "language_info": {
   "codemirror_mode": {
    "name": "ipython",
    "version": 3
   },
   "file_extension": ".py",
   "mimetype": "text/x-python",
   "name": "python",
   "nbconvert_exporter": "python",
   "pygments_lexer": "ipython3",
   "version": "3.12.5"
  }
 },
 "nbformat": 4,
 "nbformat_minor": 5
}
