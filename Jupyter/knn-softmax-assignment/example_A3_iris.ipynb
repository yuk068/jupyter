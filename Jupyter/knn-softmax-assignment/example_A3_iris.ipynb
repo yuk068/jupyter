{
 "cells": [
  {
   "cell_type": "code",
   "execution_count": 18,
   "id": "914f8a18-32be-42c5-8644-46bdc28ed73d",
   "metadata": {},
   "outputs": [
    {
     "data": {
      "image/png": "[encoded data removed]",
      "text/plain": [
       "<Figure size 640x480 with 1 Axes>"
      ]
     },
     "metadata": {},
     "output_type": "display_data"
    }
   ],
   "source": [
    "import pandas as pd\n",
    "from sklearn.decomposition import PCA as sklearnPCA\n",
    "import numpy as np\n",
    "import matplotlib.pyplot as plt\n",
    "from sklearn import datasets\n",
    "# import some data to play with\n",
    "iris = datasets.load_iris()\n",
    "X = iris.data[:, :4] # we take full 4 features\n",
    "Y = iris.target\n",
    "# Normalize data\n",
    "X_norm = (X - X.min())/(X.max() - X.min())\n",
    "pca = sklearnPCA(n_components=2) #2-dimensional PCA\n",
    "transformed = pd.DataFrame(pca.fit_transform(X_norm))\n",
    "plt.axis(\"off\")\n",
    "plt.scatter(transformed[Y==0][0], transformed[Y==0][1], s=9, label='IRIS Setosa',\n",
    "c='red')\n",
    "plt.scatter(transformed[Y==1][0], transformed[Y==1][1], s=9, label='IRIS Versicolor',\n",
    "c='green', marker=\"^\")\n",
    "plt.scatter(transformed[Y==2][0], transformed[Y==2][1], s=9, label='IRIS Virginica',\n",
    "c='blue', marker=\"s\")\n",
    "plt.legend()\n",
    "plt.show()"
   ]
  },
  {
   "cell_type": "code",
   "execution_count": 19,
   "id": "af63c1df-265b-4562-abed-cf5c41863d42",
   "metadata": {},
   "outputs": [
    {
     "name": "stdout",
     "output_type": "stream",
     "text": [
      "Accuracy: 0.9666666666666667\n",
      "Precision (macro): 0.9696969696969697\n",
      "Recall (macro): 0.9666666666666667\n",
      "Confusion Matrix:\n",
      " [[10  0  0]\n",
      " [ 0  9  1]\n",
      " [ 0  0 10]]\n"
     ]
    }
   ],
   "source": [
    "from knn_model import k_nearest_neighbor_predict\n",
    "from sklearn.datasets import load_iris\n",
    "from sklearn.metrics import accuracy_score, precision_score, recall_score, confusion_matrix\n",
    "\n",
    "# Load the iris dataset\n",
    "iris = load_iris()\n",
    "X = iris.data\n",
    "y = iris.target\n",
    "\n",
    "# Split the data to meet the requirements\n",
    "X_train, X_test, y_train, y_test = [], [], [], []\n",
    "\n",
    "np.random.seed(42)\n",
    "\n",
    "for species in range(3):\n",
    "    species_indices = np.where(y == species)[0]\n",
    "    X_species = X[species_indices]\n",
    "    y_species = y[species_indices]\n",
    "    \n",
    "    train_indices = np.random.choice(len(X_species), 40, replace=False)\n",
    "    test_indices = np.setdiff1d(range(len(X_species)), train_indices)[:10]\n",
    "    \n",
    "    X_train.extend(X_species[train_indices])\n",
    "    X_test.extend(X_species[test_indices])\n",
    "    y_train.extend(y_species[train_indices])\n",
    "    y_test.extend(y_species[test_indices])\n",
    "\n",
    "X_train, X_test, y_train, y_test = map(np.array, [X_train, X_test, y_train, y_test])\n",
    "\n",
    "# Use our K-NN Model with k = 11\n",
    "y_pred = k_nearest_neighbor_predict(X_train, y_train, X_test, k=11)\n",
    "\n",
    "# Print out evaluation metrics for multiclass\n",
    "accuracy = accuracy_score(y_test, y_pred)\n",
    "print(\"Accuracy:\", accuracy)\n",
    "precision = precision_score(y_test, y_pred, average='macro')\n",
    "print(\"Precision (macro):\", precision)\n",
    "recall = recall_score(y_test, y_pred, average='macro')\n",
    "print(\"Recall (macro):\", recall)\n",
    "conf_matrix = confusion_matrix(y_test, y_pred)\n",
    "print(\"Confusion Matrix:\\n\", conf_matrix)"
   ]
  }
 ],
 "metadata": {
  "kernelspec": {
   "display_name": "Python 3 (ipykernel)",
   "language": "python",
   "name": "python3"
  },
  "language_info": {
   "codemirror_mode": {
    "name": "ipython",
    "version": 3
   },
   "file_extension": ".py",
   "mimetype": "text/x-python",
   "name": "python",
   "nbconvert_exporter": "python",
   "pygments_lexer": "ipython3",
   "version": "3.12.5"
  }
 },
 "nbformat": 4,
 "nbformat_minor": 5
}
